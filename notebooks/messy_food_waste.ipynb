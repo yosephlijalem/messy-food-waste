{
 "cells": [
  {
   "cell_type": "code",
   "execution_count": 1,
   "id": "0bcd6f50-c589-4636-ab48-5f8f1ad02c38",
   "metadata": {},
   "outputs": [],
   "source": [
    "import pandas as pd\n",
    "import numpy as np\n"
   ]
  },
  {
   "cell_type": "code",
   "execution_count": 3,
   "id": "1dc96eb7-3bc4-4737-baa6-5d5bdec5a699",
   "metadata": {},
   "outputs": [
    {
     "data": {
      "text/html": [
       "<div>\n",
       "<style scoped>\n",
       "    .dataframe tbody tr th:only-of-type {\n",
       "        vertical-align: middle;\n",
       "    }\n",
       "\n",
       "    .dataframe tbody tr th {\n",
       "        vertical-align: top;\n",
       "    }\n",
       "\n",
       "    .dataframe thead th {\n",
       "        text-align: right;\n",
       "    }\n",
       "</style>\n",
       "<table border=\"1\" class=\"dataframe\">\n",
       "  <thead>\n",
       "    <tr style=\"text-align: right;\">\n",
       "      <th></th>\n",
       "      <th>ID</th>\n",
       "      <th>date</th>\n",
       "      <th>meals_served</th>\n",
       "      <th>kitchen_staff</th>\n",
       "      <th>temperature_C</th>\n",
       "      <th>humidity_percent</th>\n",
       "      <th>day_of_week</th>\n",
       "      <th>special_event</th>\n",
       "      <th>past_waste_kg</th>\n",
       "      <th>staff_experience</th>\n",
       "      <th>waste_category</th>\n",
       "      <th>food_waste_kg</th>\n",
       "    </tr>\n",
       "  </thead>\n",
       "  <tbody>\n",
       "    <tr>\n",
       "      <th>0</th>\n",
       "      <td>0</td>\n",
       "      <td>2022-12-19</td>\n",
       "      <td>196</td>\n",
       "      <td>13</td>\n",
       "      <td>27.887273</td>\n",
       "      <td>45.362854</td>\n",
       "      <td>0</td>\n",
       "      <td>0</td>\n",
       "      <td>7.740587</td>\n",
       "      <td>intermediate</td>\n",
       "      <td>dairy</td>\n",
       "      <td>28.946465</td>\n",
       "    </tr>\n",
       "    <tr>\n",
       "      <th>1</th>\n",
       "      <td>1</td>\n",
       "      <td>2023-11-21</td>\n",
       "      <td>244</td>\n",
       "      <td>15</td>\n",
       "      <td>10.317872</td>\n",
       "      <td>64.430475</td>\n",
       "      <td>1</td>\n",
       "      <td>0</td>\n",
       "      <td>42.311779</td>\n",
       "      <td>NaN</td>\n",
       "      <td>MeAt</td>\n",
       "      <td>51.549053</td>\n",
       "    </tr>\n",
       "    <tr>\n",
       "      <th>2</th>\n",
       "      <td>4</td>\n",
       "      <td>2022-02-01</td>\n",
       "      <td>148</td>\n",
       "      <td>16</td>\n",
       "      <td>27.714300</td>\n",
       "      <td>69.046113</td>\n",
       "      <td>1</td>\n",
       "      <td>0</td>\n",
       "      <td>41.184305</td>\n",
       "      <td>Beginner</td>\n",
       "      <td>MeAt</td>\n",
       "      <td>53.008323</td>\n",
       "    </tr>\n",
       "    <tr>\n",
       "      <th>3</th>\n",
       "      <td>5</td>\n",
       "      <td>2023-03-19</td>\n",
       "      <td>157</td>\n",
       "      <td>19</td>\n",
       "      <td>19.173902</td>\n",
       "      <td>46.292823</td>\n",
       "      <td>6</td>\n",
       "      <td>0</td>\n",
       "      <td>41.543492</td>\n",
       "      <td>Beginner</td>\n",
       "      <td>MeAt</td>\n",
       "      <td>48.621527</td>\n",
       "    </tr>\n",
       "    <tr>\n",
       "      <th>4</th>\n",
       "      <td>6</td>\n",
       "      <td>2022-07-18</td>\n",
       "      <td>297</td>\n",
       "      <td>10</td>\n",
       "      <td>26.375233</td>\n",
       "      <td>79.741064</td>\n",
       "      <td>0</td>\n",
       "      <td>0</td>\n",
       "      <td>26.525097</td>\n",
       "      <td>Intermediate</td>\n",
       "      <td>MEAT</td>\n",
       "      <td>44.156984</td>\n",
       "    </tr>\n",
       "  </tbody>\n",
       "</table>\n",
       "</div>"
      ],
      "text/plain": [
       "   ID        date  meals_served  kitchen_staff  temperature_C  \\\n",
       "0   0  2022-12-19           196             13      27.887273   \n",
       "1   1  2023-11-21           244             15      10.317872   \n",
       "2   4  2022-02-01           148             16      27.714300   \n",
       "3   5  2023-03-19           157             19      19.173902   \n",
       "4   6  2022-07-18           297             10      26.375233   \n",
       "\n",
       "   humidity_percent  day_of_week  special_event  past_waste_kg  \\\n",
       "0         45.362854            0              0       7.740587   \n",
       "1         64.430475            1              0      42.311779   \n",
       "2         69.046113            1              0      41.184305   \n",
       "3         46.292823            6              0      41.543492   \n",
       "4         79.741064            0              0      26.525097   \n",
       "\n",
       "  staff_experience waste_category  food_waste_kg  \n",
       "0     intermediate          dairy      28.946465  \n",
       "1              NaN           MeAt      51.549053  \n",
       "2         Beginner           MeAt      53.008323  \n",
       "3         Beginner           MeAt      48.621527  \n",
       "4     Intermediate           MEAT      44.156984  "
      ]
     },
     "execution_count": 3,
     "metadata": {},
     "output_type": "execute_result"
    }
   ],
   "source": [
    "df = pd.read_csv(\"data/train.csv\")\n",
    "df.head()\n"
   ]
  },
  {
   "cell_type": "code",
   "execution_count": 5,
   "id": "4bd257b8-dae7-40c6-b5ed-b3c4c08e86d6",
   "metadata": {},
   "outputs": [
    {
     "data": {
      "text/plain": [
       "(911, 12)"
      ]
     },
     "execution_count": 5,
     "metadata": {},
     "output_type": "execute_result"
    }
   ],
   "source": [
    "df.shape\n"
   ]
  },
  {
   "cell_type": "code",
   "execution_count": 7,
   "id": "67b7d0f3-2fcd-4177-b0aa-7344e473d520",
   "metadata": {},
   "outputs": [
    {
     "data": {
      "text/plain": [
       "ID                    0\n",
       "date                  0\n",
       "meals_served          0\n",
       "kitchen_staff         0\n",
       "temperature_C         0\n",
       "humidity_percent      0\n",
       "day_of_week           0\n",
       "special_event         0\n",
       "past_waste_kg         0\n",
       "staff_experience    164\n",
       "waste_category        0\n",
       "food_waste_kg         0\n",
       "dtype: int64"
      ]
     },
     "execution_count": 7,
     "metadata": {},
     "output_type": "execute_result"
    }
   ],
   "source": [
    "df.isnull().sum()\n"
   ]
  },
  {
   "cell_type": "code",
   "execution_count": 9,
   "id": "f8b52448-ab93-4b7b-9a3b-db38ad2ab4ce",
   "metadata": {},
   "outputs": [
    {
     "name": "stdout",
     "output_type": "stream",
     "text": [
      "<class 'pandas.core.frame.DataFrame'>\n",
      "RangeIndex: 911 entries, 0 to 910\n",
      "Data columns (total 12 columns):\n",
      " #   Column            Non-Null Count  Dtype  \n",
      "---  ------            --------------  -----  \n",
      " 0   ID                911 non-null    int64  \n",
      " 1   date              911 non-null    object \n",
      " 2   meals_served      911 non-null    int64  \n",
      " 3   kitchen_staff     911 non-null    int64  \n",
      " 4   temperature_C     911 non-null    float64\n",
      " 5   humidity_percent  911 non-null    float64\n",
      " 6   day_of_week       911 non-null    int64  \n",
      " 7   special_event     911 non-null    int64  \n",
      " 8   past_waste_kg     911 non-null    float64\n",
      " 9   staff_experience  747 non-null    object \n",
      " 10  waste_category    911 non-null    object \n",
      " 11  food_waste_kg     911 non-null    float64\n",
      "dtypes: float64(4), int64(5), object(3)\n",
      "memory usage: 85.5+ KB\n"
     ]
    }
   ],
   "source": [
    "df.info()\n"
   ]
  },
  {
   "cell_type": "code",
   "execution_count": 11,
   "id": "92c9390c-b644-47d7-b426-2b07e66b8353",
   "metadata": {},
   "outputs": [
    {
     "data": {
      "text/html": [
       "<div>\n",
       "<style scoped>\n",
       "    .dataframe tbody tr th:only-of-type {\n",
       "        vertical-align: middle;\n",
       "    }\n",
       "\n",
       "    .dataframe tbody tr th {\n",
       "        vertical-align: top;\n",
       "    }\n",
       "\n",
       "    .dataframe thead th {\n",
       "        text-align: right;\n",
       "    }\n",
       "</style>\n",
       "<table border=\"1\" class=\"dataframe\">\n",
       "  <thead>\n",
       "    <tr style=\"text-align: right;\">\n",
       "      <th></th>\n",
       "      <th>ID</th>\n",
       "      <th>meals_served</th>\n",
       "      <th>kitchen_staff</th>\n",
       "      <th>temperature_C</th>\n",
       "      <th>humidity_percent</th>\n",
       "      <th>day_of_week</th>\n",
       "      <th>special_event</th>\n",
       "      <th>past_waste_kg</th>\n",
       "      <th>food_waste_kg</th>\n",
       "    </tr>\n",
       "  </thead>\n",
       "  <tbody>\n",
       "    <tr>\n",
       "      <th>count</th>\n",
       "      <td>911.000000</td>\n",
       "      <td>911.000000</td>\n",
       "      <td>911.000000</td>\n",
       "      <td>911.000000</td>\n",
       "      <td>911.000000</td>\n",
       "      <td>911.000000</td>\n",
       "      <td>911.000000</td>\n",
       "      <td>911.000000</td>\n",
       "      <td>911.000000</td>\n",
       "    </tr>\n",
       "    <tr>\n",
       "      <th>mean</th>\n",
       "      <td>528.327113</td>\n",
       "      <td>375.405049</td>\n",
       "      <td>11.900110</td>\n",
       "      <td>22.189280</td>\n",
       "      <td>60.761313</td>\n",
       "      <td>3.014270</td>\n",
       "      <td>0.085620</td>\n",
       "      <td>27.015691</td>\n",
       "      <td>44.842691</td>\n",
       "    </tr>\n",
       "    <tr>\n",
       "      <th>std</th>\n",
       "      <td>305.072794</td>\n",
       "      <td>502.812717</td>\n",
       "      <td>4.285153</td>\n",
       "      <td>8.922389</td>\n",
       "      <td>17.330821</td>\n",
       "      <td>2.009542</td>\n",
       "      <td>0.279956</td>\n",
       "      <td>12.774223</td>\n",
       "      <td>27.934366</td>\n",
       "    </tr>\n",
       "    <tr>\n",
       "      <th>min</th>\n",
       "      <td>0.000000</td>\n",
       "      <td>100.000000</td>\n",
       "      <td>5.000000</td>\n",
       "      <td>-10.372207</td>\n",
       "      <td>30.121111</td>\n",
       "      <td>0.000000</td>\n",
       "      <td>0.000000</td>\n",
       "      <td>5.008394</td>\n",
       "      <td>10.819048</td>\n",
       "    </tr>\n",
       "    <tr>\n",
       "      <th>25%</th>\n",
       "      <td>266.000000</td>\n",
       "      <td>211.000000</td>\n",
       "      <td>8.000000</td>\n",
       "      <td>15.684585</td>\n",
       "      <td>46.017835</td>\n",
       "      <td>1.000000</td>\n",
       "      <td>0.000000</td>\n",
       "      <td>16.091383</td>\n",
       "      <td>32.887912</td>\n",
       "    </tr>\n",
       "    <tr>\n",
       "      <th>50%</th>\n",
       "      <td>531.000000</td>\n",
       "      <td>306.000000</td>\n",
       "      <td>12.000000</td>\n",
       "      <td>22.115040</td>\n",
       "      <td>61.633960</td>\n",
       "      <td>3.000000</td>\n",
       "      <td>0.000000</td>\n",
       "      <td>26.854109</td>\n",
       "      <td>41.146930</td>\n",
       "    </tr>\n",
       "    <tr>\n",
       "      <th>75%</th>\n",
       "      <td>795.500000</td>\n",
       "      <td>407.000000</td>\n",
       "      <td>15.000000</td>\n",
       "      <td>28.804294</td>\n",
       "      <td>75.787910</td>\n",
       "      <td>5.000000</td>\n",
       "      <td>0.000000</td>\n",
       "      <td>38.149878</td>\n",
       "      <td>50.046681</td>\n",
       "    </tr>\n",
       "    <tr>\n",
       "      <th>max</th>\n",
       "      <td>1049.000000</td>\n",
       "      <td>4730.000000</td>\n",
       "      <td>19.000000</td>\n",
       "      <td>60.000000</td>\n",
       "      <td>89.982828</td>\n",
       "      <td>6.000000</td>\n",
       "      <td>1.000000</td>\n",
       "      <td>49.803703</td>\n",
       "      <td>274.328783</td>\n",
       "    </tr>\n",
       "  </tbody>\n",
       "</table>\n",
       "</div>"
      ],
      "text/plain": [
       "                ID  meals_served  kitchen_staff  temperature_C  \\\n",
       "count   911.000000    911.000000     911.000000     911.000000   \n",
       "mean    528.327113    375.405049      11.900110      22.189280   \n",
       "std     305.072794    502.812717       4.285153       8.922389   \n",
       "min       0.000000    100.000000       5.000000     -10.372207   \n",
       "25%     266.000000    211.000000       8.000000      15.684585   \n",
       "50%     531.000000    306.000000      12.000000      22.115040   \n",
       "75%     795.500000    407.000000      15.000000      28.804294   \n",
       "max    1049.000000   4730.000000      19.000000      60.000000   \n",
       "\n",
       "       humidity_percent  day_of_week  special_event  past_waste_kg  \\\n",
       "count        911.000000   911.000000     911.000000     911.000000   \n",
       "mean          60.761313     3.014270       0.085620      27.015691   \n",
       "std           17.330821     2.009542       0.279956      12.774223   \n",
       "min           30.121111     0.000000       0.000000       5.008394   \n",
       "25%           46.017835     1.000000       0.000000      16.091383   \n",
       "50%           61.633960     3.000000       0.000000      26.854109   \n",
       "75%           75.787910     5.000000       0.000000      38.149878   \n",
       "max           89.982828     6.000000       1.000000      49.803703   \n",
       "\n",
       "       food_waste_kg  \n",
       "count     911.000000  \n",
       "mean       44.842691  \n",
       "std        27.934366  \n",
       "min        10.819048  \n",
       "25%        32.887912  \n",
       "50%        41.146930  \n",
       "75%        50.046681  \n",
       "max       274.328783  "
      ]
     },
     "execution_count": 11,
     "metadata": {},
     "output_type": "execute_result"
    }
   ],
   "source": [
    "df.describe()\n"
   ]
  },
  {
   "cell_type": "code",
   "execution_count": 13,
   "id": "ff265768-b8b5-4b2e-a991-1c25fef8d0e9",
   "metadata": {},
   "outputs": [
    {
     "data": {
      "text/plain": [
       "Index(['ID', 'date', 'meals_served', 'kitchen_staff', 'temperature_C',\n",
       "       'humidity_percent', 'day_of_week', 'special_event', 'past_waste_kg',\n",
       "       'staff_experience', 'waste_category', 'food_waste_kg'],\n",
       "      dtype='object')"
      ]
     },
     "execution_count": 13,
     "metadata": {},
     "output_type": "execute_result"
    }
   ],
   "source": [
    "df.columns\n"
   ]
  },
  {
   "cell_type": "code",
   "execution_count": 17,
   "id": "8235100b-032a-4c19-a7ad-2e83685ff9b9",
   "metadata": {},
   "outputs": [
    {
     "data": {
      "text/plain": [
       "Index(['special_event', 'past_waste_kg', 'staff_experience', 'waste_category',\n",
       "       'food_waste_kg'],\n",
       "      dtype='object')"
      ]
     },
     "execution_count": 17,
     "metadata": {},
     "output_type": "execute_result"
    }
   ],
   "source": [
    "df.columns[-5:]\n"
   ]
  },
  {
   "cell_type": "code",
   "execution_count": 19,
   "id": "770e0a9f-dcc9-4977-b34a-0632462c5699",
   "metadata": {},
   "outputs": [
    {
     "data": {
      "text/plain": [
       "0    28.946465\n",
       "1    51.549053\n",
       "2    53.008323\n",
       "3    48.621527\n",
       "4    44.156984\n",
       "Name: food_waste_kg, dtype: float64"
      ]
     },
     "execution_count": 19,
     "metadata": {},
     "output_type": "execute_result"
    }
   ],
   "source": [
    "df['food_waste_kg'].head()\n"
   ]
  },
  {
   "cell_type": "code",
   "execution_count": 21,
   "id": "25f9426e-79f4-44e6-9515-b083a9364f57",
   "metadata": {},
   "outputs": [
    {
     "data": {
      "text/plain": [
       "count    911.000000\n",
       "mean      44.842691\n",
       "std       27.934366\n",
       "min       10.819048\n",
       "25%       32.887912\n",
       "50%       41.146930\n",
       "75%       50.046681\n",
       "max      274.328783\n",
       "Name: food_waste_kg, dtype: float64"
      ]
     },
     "execution_count": 21,
     "metadata": {},
     "output_type": "execute_result"
    }
   ],
   "source": [
    "df['food_waste_kg'].describe()\n"
   ]
  },
  {
   "cell_type": "code",
   "execution_count": 23,
   "id": "4035bf25-234f-4e91-90a2-b9ea4aba6b5d",
   "metadata": {},
   "outputs": [
    {
     "data": {
      "image/png": "[encoded data removed]",
      "text/plain": [
       "<Figure size 640x480 with 1 Axes>"
      ]
     },
     "metadata": {},
     "output_type": "display_data"
    }
   ],
   "source": [
    "import matplotlib.pyplot as plt\n",
    "\n",
    "df['food_waste_kg'].hist(bins=30, edgecolor='black')\n",
    "plt.xlabel(\"Food Waste (kg)\")\n",
    "plt.ylabel(\"Frequency\")\n",
    "plt.title(\"Distribution of Food Waste\")\n",
    "plt.show()\n"
   ]
  },
  {
   "cell_type": "code",
   "execution_count": 25,
   "id": "338a162d-81f7-4308-9b5a-0b1c283aa7d3",
   "metadata": {},
   "outputs": [
    {
     "data": {
      "text/plain": [
       "Index(['date', 'staff_experience', 'waste_category'], dtype='object')"
      ]
     },
     "execution_count": 25,
     "metadata": {},
     "output_type": "execute_result"
    }
   ],
   "source": [
    "df.select_dtypes(include='object').columns\n"
   ]
  },
  {
   "cell_type": "code",
   "execution_count": 27,
   "id": "85da4706-be2b-4a3e-9111-edaf23ee8060",
   "metadata": {},
   "outputs": [
    {
     "data": {
      "text/plain": [
       "Index(['ID', 'meals_served', 'kitchen_staff', 'temperature_C',\n",
       "       'humidity_percent', 'day_of_week', 'special_event', 'past_waste_kg',\n",
       "       'food_waste_kg'],\n",
       "      dtype='object')"
      ]
     },
     "execution_count": 27,
     "metadata": {},
     "output_type": "execute_result"
    }
   ],
   "source": [
    "df.select_dtypes(include=np.number).columns\n"
   ]
  },
  {
   "cell_type": "code",
   "execution_count": 29,
   "id": "4cd73763-e2df-43b0-b35d-95f94c52f3bf",
   "metadata": {},
   "outputs": [
    {
     "data": {
      "text/plain": [
       "date                  0\n",
       "staff_experience    164\n",
       "waste_category        0\n",
       "dtype: int64"
      ]
     },
     "execution_count": 29,
     "metadata": {},
     "output_type": "execute_result"
    }
   ],
   "source": [
    "df[df.select_dtypes(include='object').columns].isnull().sum()\n"
   ]
  },
  {
   "cell_type": "code",
   "execution_count": 31,
   "id": "129d62f7-cfbd-4435-bfd8-a2db9a3dc6e1",
   "metadata": {},
   "outputs": [
    {
     "data": {
      "text/plain": [
       "ID                  0\n",
       "meals_served        0\n",
       "kitchen_staff       0\n",
       "temperature_C       0\n",
       "humidity_percent    0\n",
       "day_of_week         0\n",
       "special_event       0\n",
       "past_waste_kg       0\n",
       "food_waste_kg       0\n",
       "dtype: int64"
      ]
     },
     "execution_count": 31,
     "metadata": {},
     "output_type": "execute_result"
    }
   ],
   "source": [
    "df[df.select_dtypes(include=np.number).columns].isnull().sum()\n"
   ]
  },
  {
   "cell_type": "code",
   "execution_count": 33,
   "id": "64ff41d0-32f1-4258-a9e7-7d6f393f0e41",
   "metadata": {},
   "outputs": [
    {
     "data": {
      "text/plain": [
       "0"
      ]
     },
     "execution_count": 33,
     "metadata": {},
     "output_type": "execute_result"
    }
   ],
   "source": [
    "df.duplicated().sum()\n"
   ]
  },
  {
   "cell_type": "code",
   "execution_count": 35,
   "id": "24e08242-c264-42d8-9356-c81646fd6aa1",
   "metadata": {},
   "outputs": [
    {
     "data": {
      "text/plain": [
       "<Axes: >"
      ]
     },
     "execution_count": 35,
     "metadata": {},
     "output_type": "execute_result"
    },
    {
     "data": {
      "image/png": "[encoded data removed]",
      "text/plain": [
       "<Figure size 600x400 with 1 Axes>"
      ]
     },
     "metadata": {},
     "output_type": "display_data"
    }
   ],
   "source": [
    "df['food_waste_kg'].plot.box(figsize=(6,4))\n"
   ]
  },
  {
   "cell_type": "code",
   "execution_count": 37,
   "id": "fbc61d64-3a16-4987-b7ce-03807ceec191",
   "metadata": {},
   "outputs": [
    {
     "data": {
      "text/plain": [
       "ID                     Axes(0.125,0.653529;0.168478x0.226471)\n",
       "meals_served        Axes(0.327174,0.653529;0.168478x0.226471)\n",
       "kitchen_staff       Axes(0.529348,0.653529;0.168478x0.226471)\n",
       "temperature_C       Axes(0.731522,0.653529;0.168478x0.226471)\n",
       "humidity_percent       Axes(0.125,0.381765;0.168478x0.226471)\n",
       "day_of_week         Axes(0.327174,0.381765;0.168478x0.226471)\n",
       "special_event       Axes(0.529348,0.381765;0.168478x0.226471)\n",
       "past_waste_kg       Axes(0.731522,0.381765;0.168478x0.226471)\n",
       "food_waste_kg              Axes(0.125,0.11;0.168478x0.226471)\n",
       "dtype: object"
      ]
     },
     "execution_count": 37,
     "metadata": {},
     "output_type": "execute_result"
    },
    {
     "data": {
      "image/png": "[encoded data removed]",
      "text/plain": [
       "<Figure size 1200x600 with 12 Axes>"
      ]
     },
     "metadata": {},
     "output_type": "display_data"
    }
   ],
   "source": [
    "df[df.select_dtypes(include=np.number).columns].plot(kind='box', figsize=(12,6), subplots=True, layout=(3,4), sharex=False, sharey=False)\n"
   ]
  },
  {
   "cell_type": "code",
   "execution_count": 39,
   "id": "fbe7145c-9bfc-4b57-a61e-0fefc626ac2c",
   "metadata": {},
   "outputs": [
    {
     "data": {
      "text/plain": [
       "food_waste_kg       1.000000\n",
       "meals_served        0.852128\n",
       "past_waste_kg       0.260767\n",
       "special_event       0.118757\n",
       "day_of_week         0.008090\n",
       "kitchen_staff       0.007192\n",
       "temperature_C      -0.015911\n",
       "ID                 -0.020233\n",
       "humidity_percent   -0.021793\n",
       "Name: food_waste_kg, dtype: float64"
      ]
     },
     "execution_count": 39,
     "metadata": {},
     "output_type": "execute_result"
    }
   ],
   "source": [
    "df.corr(numeric_only=True)['food_waste_kg'].sort_values(ascending=False)\n"
   ]
  },
  {
   "cell_type": "code",
   "execution_count": 41,
   "id": "79276b79-2a6f-4f1f-a496-1f1696766bb8",
   "metadata": {},
   "outputs": [
    {
     "name": "stdout",
     "output_type": "stream",
     "text": [
      "date: 867 unique values\n",
      "staff_experience: 4 unique values\n",
      "waste_category: 5 unique values\n"
     ]
    }
   ],
   "source": [
    "for col in df.select_dtypes(include='object').columns:\n",
    "    print(f\"{col}: {df[col].nunique()} unique values\")\n"
   ]
  },
  {
   "cell_type": "code",
   "execution_count": 47,
   "id": "baaee22c-2f10-4fc8-875d-96605339a901",
   "metadata": {},
   "outputs": [
    {
     "data": {
      "text/plain": [
       "['date', 'staff_experience', 'waste_category']"
      ]
     },
     "execution_count": 47,
     "metadata": {},
     "output_type": "execute_result"
    }
   ],
   "source": [
    "df.select_dtypes(include='object').columns.tolist()\n"
   ]
  },
  {
   "cell_type": "code",
   "execution_count": 49,
   "id": "f669558f-d526-43b8-b02c-89e4243af90a",
   "metadata": {},
   "outputs": [
    {
     "data": {
      "text/plain": [
       "array(['2022-12-19', '2023-11-21', '2022-02-01', '2023-03-19',\n",
       "       '2022-07-18', '2023-03-02', '2022-04-18', '2023-12-16',\n",
       "       '2023-07-07', '2023-11-07', '2022-06-08', '2023-04-21',\n",
       "       '2022-01-25', '2023-09-10', '2023-04-29', '2024-06-03',\n",
       "       '2023-10-13', '2022-09-02', '2024-04-27', '2024-09-09',\n",
       "       '2024-04-08', '2023-07-25', '2022-03-01', '2022-10-18',\n",
       "       '2022-03-12', '2022-12-11', '2022-07-04', '2022-05-22',\n",
       "       '2023-01-26', '2023-05-07', '2024-04-06', '2022-04-12',\n",
       "       '2024-01-20', '2023-07-06', '2022-11-03', '2024-09-13',\n",
       "       '2022-11-18', '2024-03-10', '2024-01-01', '2023-11-09',\n",
       "       '2023-10-16', '2022-03-18', '2022-07-12', '2022-03-28',\n",
       "       '2023-04-04', '2022-02-18', '2024-07-07', '2022-01-04',\n",
       "       '2022-11-06', '2024-01-14', '2024-05-23', '2023-02-03',\n",
       "       '2023-09-09', '2022-02-19', '2022-07-19', '2023-08-22',\n",
       "       '2024-08-27', '2024-06-01', '2023-05-13', '2023-08-27',\n",
       "       '2022-01-11', '2024-06-07', '2023-11-02', '2024-07-26',\n",
       "       '2024-07-17', '2023-07-12', '2023-09-29', '2024-04-14',\n",
       "       '2023-08-06', '2022-11-30', '2022-07-30', '2022-01-20',\n",
       "       '2023-04-03', '2022-03-30', '2024-05-29', '2022-12-17',\n",
       "       '2022-08-07', '2023-02-18', '2022-10-05', '2024-08-17',\n",
       "       '2022-08-02', '2023-12-05', '2022-05-17', '2022-07-28',\n",
       "       '2023-06-07', '2023-07-23', '2022-09-18', '2023-04-13',\n",
       "       '2022-01-31', '2023-11-29', '2023-03-28', '2022-02-24',\n",
       "       '2022-01-24', '2022-01-08', '2022-04-24', '2022-04-20',\n",
       "       '2023-05-22', '2024-08-24', '2024-08-07', '2022-10-03',\n",
       "       '2023-10-19', '2024-02-24', '2024-05-04', '2024-03-07',\n",
       "       '2022-01-29', '2023-01-30', '2023-05-02', '2023-09-07',\n",
       "       '2024-05-27', '2022-06-24', '2024-07-06', '2022-02-28',\n",
       "       '2022-09-23', '2024-02-29', '2022-04-11', '2022-02-16',\n",
       "       '2022-10-27', '2023-09-08', '2022-06-28', '2024-07-22',\n",
       "       '2022-05-20', '2024-03-14', '2022-06-18', '2022-03-08',\n",
       "       '2022-03-09', '2022-01-28', '2022-01-13', '2023-06-16',\n",
       "       '2022-11-16', '2024-09-11', '2024-05-16', '2023-07-31',\n",
       "       '2022-10-14', '2024-06-30', '2022-11-20', '2024-06-09',\n",
       "       '2023-06-21', '2023-11-24', '2023-06-13', '2023-08-09',\n",
       "       '2022-01-03', '2023-03-22', '2023-05-11', '2023-07-02',\n",
       "       '2024-05-08', '2023-06-14', '2022-12-13', '2023-08-07',\n",
       "       '2023-08-17', '2022-11-05', '2022-08-20', '2023-09-22',\n",
       "       '2023-08-25', '2023-10-25', '2022-01-10', '2024-07-04',\n",
       "       '2022-11-11', '2022-04-17', '2022-02-25', '2022-05-01',\n",
       "       '2023-01-06', '2022-01-26', '2022-03-14', '2022-01-21',\n",
       "       '2022-02-14', '2022-10-24', '2022-11-25', '2022-09-05',\n",
       "       '2022-12-03', '2022-12-28', '2022-01-02', '2024-08-18',\n",
       "       '2023-01-17', '2023-11-26', '2023-06-24', '2023-09-15',\n",
       "       '2022-07-29', '2023-07-09', '2023-04-27', '2023-03-09',\n",
       "       '2023-09-19', '2022-03-02', '2023-09-14', '2024-01-26',\n",
       "       '2022-04-03', '2024-06-20', '2023-04-08', '2023-10-29',\n",
       "       '2024-09-03', '2023-04-23', '2022-11-29', '2023-12-02',\n",
       "       '2023-04-10', '2022-12-22', '2022-12-29', '2022-11-09',\n",
       "       '2022-11-15', '2023-01-16', '2022-07-02', '2023-12-18',\n",
       "       '2022-04-21', '2023-06-15', '2023-01-13', '2023-12-15',\n",
       "       '2024-05-22', '2024-01-02', '2022-10-20', '2023-03-13',\n",
       "       '2024-04-15', '2022-11-04', '2022-10-17', '2022-08-04',\n",
       "       '2023-09-23', '2022-10-08', '2023-11-05', '2023-03-27',\n",
       "       '2022-10-26', '2024-02-25', '2022-05-18', '2022-11-02',\n",
       "       '2024-03-18', '2023-08-23', '2023-08-05', '2022-01-30',\n",
       "       '2022-06-15', '2022-11-07', '2024-04-23', '2022-12-09',\n",
       "       '2023-08-29', '2023-06-11', '2022-03-07', '2023-09-24',\n",
       "       '2024-06-10', '2024-02-10', '2022-08-10', '2022-08-24',\n",
       "       '2023-03-06', '2023-03-17', '2023-08-12', '2024-08-30',\n",
       "       '2022-09-07', '2023-08-02', '2023-02-14', '2022-03-13',\n",
       "       '2022-04-05', '2023-10-07', '2022-09-17', '2022-07-24',\n",
       "       '2024-03-09', '2023-09-13', '2023-01-01', '2022-03-26',\n",
       "       '2024-09-21', '2022-03-24', '2023-06-10', '2023-03-16',\n",
       "       '2023-07-22', '2023-07-15', '2023-06-27', '2022-11-28',\n",
       "       '2022-01-06', '2022-04-15', '2022-04-08', '2024-04-12',\n",
       "       '2024-02-27', '2023-03-01', '2024-07-23', '2022-10-09',\n",
       "       '2022-09-24', '2023-06-19', '2023-03-30', '2022-12-26',\n",
       "       '2023-05-06', '2024-09-18', '2024-03-27', '2022-04-29',\n",
       "       '2023-09-27', '2022-09-08', '2023-12-19', '2023-12-06',\n",
       "       '2024-05-09', '2022-07-16', '2023-10-15', '2022-03-23',\n",
       "       '2023-03-24', '2023-06-18', '2023-10-31', '2022-08-28',\n",
       "       '2023-02-16', '2023-06-30', '2023-06-04', '2022-08-16',\n",
       "       '2024-07-11', '2023-02-09', '2024-06-08', '2022-06-27',\n",
       "       '2022-01-07', '2023-03-07', '2023-06-17', '2023-04-24',\n",
       "       '2023-11-20', '2022-06-05', '2022-12-24', '2023-08-08',\n",
       "       '2022-11-26', '2023-09-26', '2024-04-02', '2023-09-04',\n",
       "       '2022-02-11', '2024-01-17', '2024-03-20', '2023-05-10',\n",
       "       '2023-07-27', '2024-02-02', '2024-08-16', '2022-06-13',\n",
       "       '2022-08-17', '2023-06-08', '2024-02-26', '2022-08-01',\n",
       "       '2024-04-05', '2022-03-21', '2022-05-29', '2022-10-30',\n",
       "       '2023-03-25', '2023-05-17', '2023-07-03', '2024-04-21',\n",
       "       '2022-02-13', '2023-05-09', '2022-05-14', '2023-08-18',\n",
       "       '2023-05-23', '2023-10-18', '2023-06-01', '2024-04-29',\n",
       "       '2022-01-01', '2024-02-22', '2023-01-18', '2022-11-13',\n",
       "       '2024-02-01', '2022-01-05', '2022-05-06', '2023-11-28',\n",
       "       '2023-05-15', '2023-08-20', '2024-08-29', '2022-04-01',\n",
       "       '2022-07-01', '2022-12-30', '2024-01-23', '2024-08-20',\n",
       "       '2022-10-19', '2022-05-12', '2022-10-28', '2023-12-14',\n",
       "       '2022-11-23', '2022-05-25', '2024-08-21', '2024-06-05',\n",
       "       '2022-05-16', '2023-12-24', '2022-06-14', '2023-11-11',\n",
       "       '2022-07-13', '2024-06-21', '2024-03-24', '2023-03-10',\n",
       "       '2024-09-14', '2022-06-19', '2022-05-21', '2024-03-31',\n",
       "       '2023-06-20', '2024-08-19', '2024-05-05', '2022-03-15',\n",
       "       '2024-01-08', '2023-06-12', '2022-08-27', '2022-05-26',\n",
       "       '2024-05-02', '2022-08-23', '2022-08-03', '2023-12-13',\n",
       "       '2022-02-17', '2024-06-25', '2023-12-09', '2023-02-27',\n",
       "       '2022-07-05', '2024-02-07', '2022-02-26', '2023-04-28',\n",
       "       '2024-01-24', '2024-03-04', '2023-04-14', '2024-07-15',\n",
       "       '2023-03-12', '2023-10-30', '2022-01-22', '2024-09-24',\n",
       "       '2022-12-05', '2022-02-21', '2024-05-11', '2024-09-16',\n",
       "       '2023-11-14', '2024-09-22', '2022-09-22', '2023-12-10',\n",
       "       '2024-02-05', '2024-01-07', '2023-01-31', '2023-07-13',\n",
       "       '2022-06-26', '2022-01-19', '2024-09-06', '2023-06-23',\n",
       "       '2023-09-06', '2023-08-14', '2023-01-03', '2022-03-25',\n",
       "       '2022-03-03', '2022-09-30', '2022-10-13', '2022-12-27',\n",
       "       '2022-12-21', '2024-08-09', '2022-10-06', '2023-01-04',\n",
       "       '2023-09-11', '2023-08-13', '2023-10-20', '2023-04-02',\n",
       "       '2023-01-29', '2023-11-16', '2023-12-25', '2023-01-11',\n",
       "       '2023-02-17', '2022-03-16', '2024-08-05', '2023-05-16',\n",
       "       '2023-08-28', '2022-04-25', '2023-02-22', '2022-03-31',\n",
       "       '2024-09-17', '2024-07-21', '2024-05-24', '2023-10-23',\n",
       "       '2022-01-12', '2023-02-01', '2023-07-30', '2022-02-12',\n",
       "       '2022-06-17', '2023-02-21', '2024-08-25', '2023-03-03',\n",
       "       '2023-06-29', '2024-08-06', '2024-06-23', '2023-10-24',\n",
       "       '2022-09-15', '2022-12-02', '2022-01-16', '2023-11-10',\n",
       "       '2022-11-21', '2024-03-28', '2022-08-11', '2022-06-29',\n",
       "       '2022-04-10', '2023-06-06', '2022-01-23', '2024-07-16',\n",
       "       '2024-01-28', '2023-03-08', '2023-08-19', '2024-06-17',\n",
       "       '2022-07-23', '2024-01-31', '2022-04-04', '2023-08-26',\n",
       "       '2022-03-10', '2024-08-11', '2022-10-12', '2024-05-15',\n",
       "       '2023-03-11', '2022-06-03', '2022-03-17', '2024-02-28',\n",
       "       '2023-08-04', '2023-03-23', '2022-07-08', '2022-09-29',\n",
       "       '2022-08-25', '2023-05-03', '2023-07-14', '2022-04-28',\n",
       "       '2024-05-30', '2023-05-28', '2023-10-06', '2022-05-07',\n",
       "       '2022-04-27', '2023-04-19', '2022-02-02', '2022-02-27',\n",
       "       '2024-09-07', '2023-01-05', '2022-09-26', '2022-12-16',\n",
       "       '2022-07-15', '2024-06-18', '2024-01-16', '2024-06-12',\n",
       "       '2023-03-20', '2024-03-03', '2022-11-01', '2022-12-08',\n",
       "       '2024-07-25', '2022-05-30', '2022-05-05', '2024-04-26',\n",
       "       '2024-06-04', '2022-02-20', '2022-12-20', '2024-09-25',\n",
       "       '2022-05-23', '2023-04-16', '2023-02-04', '2024-07-18',\n",
       "       '2022-11-17', '2024-06-26', '2024-04-30', '2024-06-13',\n",
       "       '2023-02-12', '2023-11-25', '2022-02-08', '2022-06-25',\n",
       "       '2022-09-03', '2024-06-11', '2023-12-23', '2024-08-01',\n",
       "       '2024-07-13', '2022-06-04', '2023-10-01', '2022-10-15',\n",
       "       '2023-09-18', '2023-07-24', '2024-03-12', '2022-05-08',\n",
       "       '2022-11-19', '2022-09-13', '2024-03-01', '2022-07-10',\n",
       "       '2022-04-26', '2023-08-30', '2022-06-30', '2022-10-29',\n",
       "       '2024-04-09', '2024-06-19', '2024-02-20', '2024-01-10',\n",
       "       '2023-06-02', '2023-01-08', '2022-02-15', '2024-09-04',\n",
       "       '2024-03-13', '2022-06-21', '2023-05-27', '2022-07-11',\n",
       "       '2024-06-24', '2023-05-31', '2024-01-11', '2023-04-26',\n",
       "       '2024-02-14', '2023-12-08', '2022-01-27', '2023-03-14',\n",
       "       '2022-12-31', '2022-08-18', '2022-02-07', '2023-11-01',\n",
       "       '2022-02-04', '2023-01-10', '2023-04-15', '2022-02-05',\n",
       "       '2023-11-19', '2024-01-29', '2024-07-09', '2024-07-19',\n",
       "       '2023-05-19', '2022-02-06', '2024-06-14', '2023-08-03',\n",
       "       '2022-06-10', '2023-11-12', '2022-06-12', '2023-12-07',\n",
       "       '2024-01-27', '2024-03-11', '2024-01-25', '2024-03-25',\n",
       "       '2022-04-22', '2024-06-02', '2022-04-14', '2023-02-24',\n",
       "       '2024-03-19', '2023-08-10', '2022-04-30', '2022-02-23',\n",
       "       '2022-06-01', '2023-02-08', '2022-07-27', '2023-10-21',\n",
       "       '2024-09-05', '2024-05-19', '2023-03-29', '2023-10-14',\n",
       "       '2022-09-11', '2022-10-31', '2024-06-29', '2023-07-26',\n",
       "       '2023-09-16', '2024-02-04', '2024-09-19', '2022-09-20',\n",
       "       '2023-02-19', '2022-05-31', '2024-04-28', '2023-10-03',\n",
       "       '2024-08-14', '2023-07-05', '2024-05-01', '2023-05-04',\n",
       "       '2023-12-12', '2022-05-28', '2022-05-27', '2024-02-17',\n",
       "       '2024-05-03', '2024-08-08', '2023-10-22', '2023-04-09',\n",
       "       '2022-11-22', '2022-07-06', '2022-05-04', '2024-07-08',\n",
       "       '2023-09-01', '2022-05-24', '2024-01-22', '2022-07-17',\n",
       "       '2022-10-21', '2024-06-15', '2023-02-05', '2022-05-03',\n",
       "       '2022-07-03', '2022-07-22', '2023-03-15', '2022-09-04',\n",
       "       '2024-04-16', '2024-04-04', '2024-09-01', '2024-08-12',\n",
       "       '2022-05-10', '2023-09-30', '2023-02-07', '2024-04-24',\n",
       "       '2024-04-10', '2024-01-06', '2024-09-08', '2023-10-04',\n",
       "       '2024-09-10', '2024-03-21', '2024-05-17', '2024-09-15',\n",
       "       '2023-09-17', '2024-06-22', '2024-03-30', '2023-01-22',\n",
       "       '2024-03-17', '2023-05-25', '2022-09-25', '2024-05-31',\n",
       "       '2023-03-18', '2023-05-12', '2022-04-23', '2023-11-23',\n",
       "       '2022-08-21', '2024-07-24', '2023-11-03', '2023-01-09',\n",
       "       '2023-10-26', '2024-06-27', '2022-08-22', '2022-01-15',\n",
       "       '2024-04-25', '2023-11-08', '2022-11-14', '2023-10-11',\n",
       "       '2024-08-23', '2023-12-11', '2022-12-25', '2022-09-16',\n",
       "       '2024-01-15', '2023-09-20', '2023-09-25', '2022-10-10',\n",
       "       '2023-01-12', '2023-01-20', '2024-05-26', '2023-04-18',\n",
       "       '2023-05-21', '2023-10-02', '2024-03-08', '2024-09-26',\n",
       "       '2024-08-31', '2023-09-12', '2024-08-10', '2024-05-14',\n",
       "       '2023-10-08', '2024-07-01', '2023-07-11', '2023-11-13',\n",
       "       '2022-03-27', '2022-08-31', '2023-11-30', '2024-07-29',\n",
       "       '2022-06-09', '2023-06-09', '2023-06-25', '2022-06-20',\n",
       "       '2023-10-17', '2024-08-28', '2024-07-02', '2024-01-04',\n",
       "       '2022-04-06', '2023-07-18', '2022-08-29', '2024-01-13',\n",
       "       '2024-05-13', '2023-07-29', '2023-11-22', '2023-04-06',\n",
       "       '2023-07-08', '2024-05-07', '2022-07-26', '2023-01-28',\n",
       "       '2023-02-02', '2024-02-06', '2024-02-08', '2023-10-05',\n",
       "       '2023-09-05', '2024-01-09', '2023-07-01', '2023-12-27',\n",
       "       '2023-11-15', '2022-04-09', '2024-03-15', '2023-12-29',\n",
       "       '2023-07-28', '2023-02-11', '2023-05-18', '2024-02-19',\n",
       "       '2024-04-19', '2022-07-20', '2022-05-15', '2024-08-04',\n",
       "       '2022-08-19', '2023-05-05', '2024-02-12', '2023-01-14',\n",
       "       '2022-10-16', '2023-11-06', '2023-01-27', '2023-08-16',\n",
       "       '2023-05-14', '2022-05-19', '2022-03-04', '2023-04-17',\n",
       "       '2022-05-09', '2022-02-10', '2023-06-05', '2022-03-06',\n",
       "       '2024-03-23', '2022-06-06', '2023-05-08', '2023-01-15',\n",
       "       '2024-02-03', '2022-08-05', '2024-07-10', '2024-03-02',\n",
       "       '2022-02-22', '2024-05-28', '2022-12-04', '2024-01-19',\n",
       "       '2023-12-21', '2023-12-26', '2022-10-23', '2023-12-03',\n",
       "       '2022-09-09', '2023-12-28', '2023-04-07', '2023-04-01',\n",
       "       '2022-09-28', '2024-03-26', '2024-05-12', '2022-09-27',\n",
       "       '2022-07-21', '2022-06-11', '2023-07-10', '2023-12-31',\n",
       "       '2023-02-06', '2023-12-04', '2023-04-22', '2024-02-11',\n",
       "       '2023-07-20', '2023-01-25', '2023-07-16', '2024-07-20',\n",
       "       '2022-03-22', '2022-07-25', '2024-07-31', '2024-02-15',\n",
       "       '2023-05-24', '2023-03-04', '2023-03-31', '2023-01-02',\n",
       "       '2022-04-02', '2022-12-06', '2024-06-16', '2022-12-12',\n",
       "       '2024-02-16', '2022-08-30', '2022-11-12', '2023-08-24',\n",
       "       '2023-01-23', '2022-10-01', '2022-06-16', '2024-04-20',\n",
       "       '2023-10-09', '2024-03-29', '2023-04-30', '2023-05-20',\n",
       "       '2024-04-11', '2022-09-01', '2023-07-21', '2024-05-25',\n",
       "       '2023-07-17', '2023-11-18', '2024-08-15', '2022-07-09',\n",
       "       '2024-09-02', '2023-12-01', '2023-05-26', '2023-04-20',\n",
       "       '2024-05-06', '2024-01-18', '2022-09-10', '2023-04-05',\n",
       "       '2022-10-04', '2024-08-13', '2024-03-16', '2022-12-10',\n",
       "       '2024-02-09', '2022-05-11', '2024-05-21', '2022-03-29',\n",
       "       '2022-11-27', '2023-04-12', '2024-05-10'], dtype=object)"
      ]
     },
     "execution_count": 49,
     "metadata": {},
     "output_type": "execute_result"
    }
   ],
   "source": [
    "df['date'].unique()\n"
   ]
  },
  {
   "cell_type": "code",
   "execution_count": 51,
   "id": "f96b27bc-694b-44e0-b60c-cd5822aeac01",
   "metadata": {},
   "outputs": [
    {
     "data": {
      "text/plain": [
       "array(['intermediate', nan, 'Beginner', 'Intermediate', 'EXPERT'],\n",
       "      dtype=object)"
      ]
     },
     "execution_count": 51,
     "metadata": {},
     "output_type": "execute_result"
    }
   ],
   "source": [
    "df['staff_experience'].unique()\n"
   ]
  },
  {
   "cell_type": "code",
   "execution_count": 53,
   "id": "1f98a70e-733c-4e57-8bb4-5336e7cb0d1f",
   "metadata": {},
   "outputs": [
    {
     "data": {
      "text/plain": [
       "array(['dairy', 'MeAt', 'MEAT', 'Vegetables', 'GRAINS'], dtype=object)"
      ]
     },
     "execution_count": 53,
     "metadata": {},
     "output_type": "execute_result"
    }
   ],
   "source": [
    "df['waste_category'].unique()\n"
   ]
  },
  {
   "cell_type": "code",
   "execution_count": 55,
   "id": "4a418d31-5129-4858-8938-0705a9317651",
   "metadata": {},
   "outputs": [
    {
     "data": {
      "text/plain": [
       "waste_category\n",
       "MEAT          210\n",
       "dairy         180\n",
       "Vegetables    176\n",
       "GRAINS        176\n",
       "MeAt          169\n",
       "Name: count, dtype: int64"
      ]
     },
     "execution_count": 55,
     "metadata": {},
     "output_type": "execute_result"
    }
   ],
   "source": [
    "df['waste_category'].value_counts()\n"
   ]
  },
  {
   "cell_type": "code",
   "execution_count": 57,
   "id": "9d198df3-0e09-4fee-a69e-4bf163e43297",
   "metadata": {},
   "outputs": [
    {
     "data": {
      "text/plain": [
       "staff_experience\n",
       "Beginner        191\n",
       "Intermediate    186\n",
       "EXPERT          186\n",
       "intermediate    184\n",
       "Name: count, dtype: int64"
      ]
     },
     "execution_count": 57,
     "metadata": {},
     "output_type": "execute_result"
    }
   ],
   "source": [
    "df['staff_experience'].value_counts()\n"
   ]
  },
  {
   "cell_type": "code",
   "execution_count": 59,
   "id": "5becf398-d374-4336-836e-da6f1285345d",
   "metadata": {},
   "outputs": [
    {
     "data": {
      "text/plain": [
       "0"
      ]
     },
     "execution_count": 59,
     "metadata": {},
     "output_type": "execute_result"
    }
   ],
   "source": [
    "df['date'].isnull().sum()\n"
   ]
  },
  {
   "cell_type": "code",
   "execution_count": 61,
   "id": "fc22ed35-1a61-4882-b12a-e79e52f5b9b9",
   "metadata": {},
   "outputs": [
    {
     "data": {
      "text/plain": [
       "0    2022-12-19\n",
       "1    2023-11-21\n",
       "2    2022-02-01\n",
       "3    2023-03-19\n",
       "4    2022-07-18\n",
       "5    2023-03-02\n",
       "6    2022-04-18\n",
       "7    2023-12-16\n",
       "8    2023-07-07\n",
       "9    2023-11-07\n",
       "Name: date, dtype: object"
      ]
     },
     "execution_count": 61,
     "metadata": {},
     "output_type": "execute_result"
    }
   ],
   "source": [
    "df['date'].head(10)\n"
   ]
  },
  {
   "cell_type": "code",
   "execution_count": 63,
   "id": "7b8908c2-7477-4522-981b-c6683d609de8",
   "metadata": {},
   "outputs": [
    {
     "data": {
      "text/plain": [
       "0   2022-12-19\n",
       "1   2023-11-21\n",
       "2   2022-02-01\n",
       "3   2023-03-19\n",
       "4   2022-07-18\n",
       "Name: date, dtype: datetime64[ns]"
      ]
     },
     "execution_count": 63,
     "metadata": {},
     "output_type": "execute_result"
    }
   ],
   "source": [
    "df['date'] = pd.to_datetime(df['date'], errors='coerce')\n",
    "df['date'].head()\n"
   ]
  },
  {
   "cell_type": "code",
   "execution_count": 65,
   "id": "3a224db6-6d76-4b56-80fa-8da1e5378339",
   "metadata": {},
   "outputs": [
    {
     "data": {
      "text/html": [
       "<div>\n",
       "<style scoped>\n",
       "    .dataframe tbody tr th:only-of-type {\n",
       "        vertical-align: middle;\n",
       "    }\n",
       "\n",
       "    .dataframe tbody tr th {\n",
       "        vertical-align: top;\n",
       "    }\n",
       "\n",
       "    .dataframe thead th {\n",
       "        text-align: right;\n",
       "    }\n",
       "</style>\n",
       "<table border=\"1\" class=\"dataframe\">\n",
       "  <thead>\n",
       "    <tr style=\"text-align: right;\">\n",
       "      <th></th>\n",
       "      <th>date</th>\n",
       "      <th>year</th>\n",
       "      <th>month</th>\n",
       "      <th>dayofweek</th>\n",
       "    </tr>\n",
       "  </thead>\n",
       "  <tbody>\n",
       "    <tr>\n",
       "      <th>0</th>\n",
       "      <td>2022-12-19</td>\n",
       "      <td>2022</td>\n",
       "      <td>12</td>\n",
       "      <td>0</td>\n",
       "    </tr>\n",
       "    <tr>\n",
       "      <th>1</th>\n",
       "      <td>2023-11-21</td>\n",
       "      <td>2023</td>\n",
       "      <td>11</td>\n",
       "      <td>1</td>\n",
       "    </tr>\n",
       "    <tr>\n",
       "      <th>2</th>\n",
       "      <td>2022-02-01</td>\n",
       "      <td>2022</td>\n",
       "      <td>2</td>\n",
       "      <td>1</td>\n",
       "    </tr>\n",
       "    <tr>\n",
       "      <th>3</th>\n",
       "      <td>2023-03-19</td>\n",
       "      <td>2023</td>\n",
       "      <td>3</td>\n",
       "      <td>6</td>\n",
       "    </tr>\n",
       "    <tr>\n",
       "      <th>4</th>\n",
       "      <td>2022-07-18</td>\n",
       "      <td>2022</td>\n",
       "      <td>7</td>\n",
       "      <td>0</td>\n",
       "    </tr>\n",
       "  </tbody>\n",
       "</table>\n",
       "</div>"
      ],
      "text/plain": [
       "        date  year  month  dayofweek\n",
       "0 2022-12-19  2022     12          0\n",
       "1 2023-11-21  2023     11          1\n",
       "2 2022-02-01  2022      2          1\n",
       "3 2023-03-19  2023      3          6\n",
       "4 2022-07-18  2022      7          0"
      ]
     },
     "execution_count": 65,
     "metadata": {},
     "output_type": "execute_result"
    }
   ],
   "source": [
    "df['year'] = df['date'].dt.year\n",
    "df['month'] = df['date'].dt.month\n",
    "df['dayofweek'] = df['date'].dt.dayofweek\n",
    "\n",
    "df[['date', 'year', 'month', 'dayofweek']].head()\n"
   ]
  },
  {
   "cell_type": "code",
   "execution_count": 67,
   "id": "f6916ee6-b770-42f2-9109-b94e1a8649d3",
   "metadata": {},
   "outputs": [
    {
     "data": {
      "text/plain": [
       "0"
      ]
     },
     "execution_count": 67,
     "metadata": {},
     "output_type": "execute_result"
    }
   ],
   "source": [
    "df['date'].isnull().sum()\n"
   ]
  },
  {
   "cell_type": "code",
   "execution_count": 69,
   "id": "fc86dae6-f144-4867-b466-d285710f459b",
   "metadata": {},
   "outputs": [
    {
     "data": {
      "text/plain": [
       "date_missing\n",
       "0    911\n",
       "Name: count, dtype: int64"
      ]
     },
     "execution_count": 69,
     "metadata": {},
     "output_type": "execute_result"
    }
   ],
   "source": [
    "df['date_missing'] = df['date'].isna().astype(int)\n",
    "df['date_missing'].value_counts()\n"
   ]
  },
  {
   "cell_type": "code",
   "execution_count": 71,
   "id": "97c4a1a9-5ca3-49e2-b8bb-4857204f1b47",
   "metadata": {},
   "outputs": [
    {
     "data": {
      "text/plain": [
       "ID                    0\n",
       "date                  0\n",
       "meals_served          0\n",
       "kitchen_staff         0\n",
       "temperature_C         0\n",
       "humidity_percent      0\n",
       "day_of_week           0\n",
       "special_event         0\n",
       "past_waste_kg         0\n",
       "staff_experience    164\n",
       "waste_category        0\n",
       "food_waste_kg         0\n",
       "year                  0\n",
       "month                 0\n",
       "dayofweek             0\n",
       "date_missing          0\n",
       "dtype: int64"
      ]
     },
     "execution_count": 71,
     "metadata": {},
     "output_type": "execute_result"
    }
   ],
   "source": [
    "df.isnull().sum()\n"
   ]
  },
  {
   "cell_type": "code",
   "execution_count": 73,
   "id": "7c1cd0ec-0e18-450b-8a9d-695805413820",
   "metadata": {},
   "outputs": [
    {
     "data": {
      "text/plain": [
       "((911, 15), (911,))"
      ]
     },
     "execution_count": 73,
     "metadata": {},
     "output_type": "execute_result"
    }
   ],
   "source": [
    "X = df.drop(columns=['food_waste_kg'])\n",
    "y = df['food_waste_kg']\n",
    "\n",
    "X.shape, y.shape\n"
   ]
  },
  {
   "cell_type": "code",
   "execution_count": 75,
   "id": "efe42f4d-e316-44c9-b387-5a4d690bcac3",
   "metadata": {},
   "outputs": [
    {
     "data": {
      "text/plain": [
       "((728, 15), (183, 15))"
      ]
     },
     "execution_count": 75,
     "metadata": {},
     "output_type": "execute_result"
    }
   ],
   "source": [
    "from sklearn.model_selection import train_test_split\n",
    "\n",
    "X_train, X_val, y_train, y_val = train_test_split(\n",
    "    X, y, test_size=0.2, random_state=42\n",
    ")\n",
    "\n",
    "X_train.shape, X_val.shape\n"
   ]
  },
  {
   "cell_type": "code",
   "execution_count": 77,
   "id": "1d422dfb-c736-4bda-b85f-d3af28b633a2",
   "metadata": {},
   "outputs": [
    {
     "data": {
      "text/plain": [
       "(['ID', 'meals_served', 'kitchen_staff', 'temperature_C', 'humidity_percent'],\n",
       " ['date', 'staff_experience', 'waste_category'])"
      ]
     },
     "execution_count": 77,
     "metadata": {},
     "output_type": "execute_result"
    }
   ],
   "source": [
    "num_cols = X_train.select_dtypes(include=np.number).columns.tolist()\n",
    "cat_cols = X_train.select_dtypes(exclude=np.number).columns.tolist()\n",
    "num_cols[:5], cat_cols\n"
   ]
  },
  {
   "cell_type": "code",
   "execution_count": 79,
   "id": "3d1967b9-2bd9-4888-90b2-22587ebdfc98",
   "metadata": {},
   "outputs": [],
   "source": [
    "from sklearn.pipeline import Pipeline\n",
    "from sklearn.compose import ColumnTransformer\n",
    "from sklearn.impute import SimpleImputer\n",
    "from sklearn.preprocessing import OneHotEncoder, StandardScaler\n",
    "\n",
    "numeric_transformer = Pipeline(steps=[\n",
    "    ('imputer', SimpleImputer(strategy='median')),\n",
    "    ('scaler', StandardScaler())\n",
    "])\n",
    "\n",
    "categorical_transformer = Pipeline(steps=[\n",
    "    ('imputer', SimpleImputer(strategy='most_frequent')),\n",
    "    ('encoder', OneHotEncoder(handle_unknown='ignore'))\n",
    "])\n",
    "\n",
    "preprocessor = ColumnTransformer(\n",
    "    transformers=[\n",
    "        ('num', numeric_transformer, num_cols),\n",
    "        ('cat', categorical_transformer, cat_cols)\n",
    "    ]\n",
    ")\n"
   ]
  },
  {
   "cell_type": "code",
   "execution_count": 81,
   "id": "361f7f42-a06e-4217-9928-f9c45addf85b",
   "metadata": {},
   "outputs": [
    {
     "data": {
      "text/plain": [
       "(6.9200870843974664, 4.671656090599291)"
      ]
     },
     "execution_count": 81,
     "metadata": {},
     "output_type": "execute_result"
    }
   ],
   "source": [
    "from sklearn.ensemble import RandomForestRegressor\n",
    "from sklearn.metrics import mean_squared_error, mean_absolute_error\n",
    "import numpy as np\n",
    "\n",
    "baseline = Pipeline([\n",
    "    ('prep', preprocessor),\n",
    "    ('rf', RandomForestRegressor(n_estimators=300, random_state=42, n_jobs=-1))\n",
    "])\n",
    "\n",
    "baseline.fit(X_train, y_train)\n",
    "val_pred = baseline.predict(X_val)\n",
    "\n",
    "rmse = np.sqrt(mean_squared_error(y_val, val_pred))\n",
    "mae  = mean_absolute_error(y_val, val_pred)\n",
    "rmse, mae\n"
   ]
  },
  {
   "cell_type": "code",
   "execution_count": 83,
   "id": "2b4acbf8-d8a2-4883-afb3-323311c795e9",
   "metadata": {},
   "outputs": [
    {
     "data": {
      "text/plain": [
       "(7.418586110251964, 4.586430594745047)"
      ]
     },
     "execution_count": 83,
     "metadata": {},
     "output_type": "execute_result"
    }
   ],
   "source": [
    "from xgboost import XGBRegressor\n",
    "\n",
    "xgb_model = Pipeline([\n",
    "    ('prep', preprocessor),\n",
    "    ('xgb', XGBRegressor(\n",
    "        n_estimators=1000,\n",
    "        learning_rate=0.05,\n",
    "        max_depth=6,\n",
    "        subsample=0.8,\n",
    "        colsample_bytree=0.8,\n",
    "        random_state=42,\n",
    "        n_jobs=-1\n",
    "    ))\n",
    "])\n",
    "\n",
    "xgb_model.fit(X_train, y_train)\n",
    "val_pred = xgb_model.predict(X_val)\n",
    "\n",
    "rmse_xgb = np.sqrt(mean_squared_error(y_val, val_pred))\n",
    "mae_xgb  = mean_absolute_error(y_val, val_pred)\n",
    "rmse_xgb, mae_xgb\n"
   ]
  },
  {
   "cell_type": "code",
   "execution_count": 85,
   "id": "21d33b86-96f8-4eda-95c2-ab55665d3fa8",
   "metadata": {},
   "outputs": [
    {
     "name": "stdout",
     "output_type": "stream",
     "text": [
      "Random Forest  -> RMSE: 6.9200870843974664  MAE: 4.671656090599291\n",
      "XGBoost        -> RMSE: 7.418586110251964  MAE: 4.586430594745047\n"
     ]
    }
   ],
   "source": [
    "print(\"Random Forest  -> RMSE:\", rmse, \" MAE:\", mae)\n",
    "print(\"XGBoost        -> RMSE:\", rmse_xgb, \" MAE:\", mae_xgb)\n"
   ]
  },
  {
   "cell_type": "code",
   "execution_count": 87,
   "id": "cdff146c-6b22-4dca-ad8b-07810a11b3a5",
   "metadata": {},
   "outputs": [
    {
     "data": {
      "text/plain": [
       "(10.04260914508657, 2.4184805935212847)"
      ]
     },
     "execution_count": 87,
     "metadata": {},
     "output_type": "execute_result"
    }
   ],
   "source": [
    "from sklearn.model_selection import KFold, cross_val_score\n",
    "from sklearn.metrics import make_scorer, mean_squared_error\n",
    "import numpy as np\n",
    "\n",
    "cv = KFold(n_splits=5, shuffle=True, random_state=42)\n",
    "\n",
    "def rmse_scorer(y_true, y_pred):\n",
    "    return np.sqrt(mean_squared_error(y_true, y_pred))\n",
    "\n",
    "neg_rmse = cross_val_score(\n",
    "    xgb_model, X, y,\n",
    "    scoring=make_scorer(rmse_scorer, greater_is_better=False),\n",
    "    cv=cv, n_jobs=-1\n",
    ")\n",
    "\n",
    "cv_rmse = -neg_rmse\n",
    "cv_rmse.mean(), cv_rmse.std()\n"
   ]
  },
  {
   "cell_type": "code",
   "execution_count": 89,
   "id": "1c3c9ec1-8f8e-4942-8a59-56403113f903",
   "metadata": {},
   "outputs": [
    {
     "data": {
      "image/png": "[encoded data removed]",
      "text/plain": [
       "<Figure size 800x600 with 1 Axes>"
      ]
     },
     "metadata": {},
     "output_type": "display_data"
    }
   ],
   "source": [
    "import matplotlib.pyplot as plt\n",
    "\n",
    "# Fit once more on the whole training set\n",
    "xgb_model.fit(X_train, y_train)\n",
    "\n",
    "# Get feature names from preprocessing\n",
    "feature_names = xgb_model.named_steps['prep'].get_feature_names_out()\n",
    "\n",
    "# Extract importance scores from the trained XGBRegressor\n",
    "importances = xgb_model.named_steps['xgb'].feature_importances_\n",
    "\n",
    "# Sort and plot top 15\n",
    "indices = np.argsort(importances)[-15:]\n",
    "plt.figure(figsize=(8,6))\n",
    "plt.barh(range(len(indices)), importances[indices], align='center')\n",
    "plt.yticks(range(len(indices)), [feature_names[i] for i in indices])\n",
    "plt.title(\"Top 15 Feature Importances (XGBoost)\")\n",
    "plt.show()\n"
   ]
  },
  {
   "cell_type": "code",
   "execution_count": 91,
   "id": "78a14124-11aa-4532-81f7-a89f290df2a1",
   "metadata": {},
   "outputs": [
    {
     "data": {
      "image/png": "[encoded data removed]",
      "text/plain": [
       "<Figure size 800x950 with 2 Axes>"
      ]
     },
     "metadata": {},
     "output_type": "display_data"
    }
   ],
   "source": [
    "import shap\n",
    "\n",
    "# Fit again just to be sure\n",
    "xgb_model.fit(X_train, y_train)\n",
    "\n",
    "# Get the XGBoost regressor directly\n",
    "xgb_reg = xgb_model.named_steps['xgb']\n",
    "\n",
    "# Use SHAP TreeExplainer\n",
    "explainer = shap.TreeExplainer(xgb_reg)\n",
    "shap_values = explainer.shap_values(\n",
    "    xgb_model.named_steps['prep'].transform(X_val)\n",
    ")\n",
    "\n",
    "# Summary plot for top features\n",
    "shap.summary_plot(shap_values, \n",
    "                  xgb_model.named_steps['prep'].transform(X_val),\n",
    "                  feature_names=feature_names)\n"
   ]
  },
  {
   "cell_type": "code",
   "execution_count": 93,
   "id": "33c2247a-71e9-46e7-978d-7bab3ffd85e4",
   "metadata": {},
   "outputs": [
    {
     "data": {
      "text/plain": [
       "experience_month\n",
       "nan_1             24\n",
       "intermediate_5    24\n",
       "intermediate_1    23\n",
       "Beginner_2        22\n",
       "Intermediate_3    21\n",
       "Name: count, dtype: int64"
      ]
     },
     "execution_count": 93,
     "metadata": {},
     "output_type": "execute_result"
    }
   ],
   "source": [
    "df['experience_month'] = df['staff_experience'].astype(str) + \"_\" + df['month'].astype(str)\n",
    "df['experience_month'].value_counts().head()\n"
   ]
  },
  {
   "cell_type": "code",
   "execution_count": 95,
   "id": "96db73c3-e2f3-4c21-8838-079f417cff79",
   "metadata": {},
   "outputs": [],
   "source": [
    "X = df.drop(columns=['food_waste_kg'])\n",
    "y = df['food_waste_kg']\n",
    "\n",
    "from sklearn.model_selection import train_test_split\n",
    "X_train, X_val, y_train, y_val = train_test_split(\n",
    "    X, y, test_size=0.2, random_state=42\n",
    ")\n"
   ]
  },
  {
   "cell_type": "code",
   "execution_count": 97,
   "id": "d0fd6dfe-8887-4ffd-931e-65d1b39272ff",
   "metadata": {},
   "outputs": [
    {
     "data": {
      "text/plain": [
       "(['ID', 'meals_served', 'kitchen_staff', 'temperature_C', 'humidity_percent'],\n",
       " ['date', 'staff_experience', 'waste_category', 'experience_month'])"
      ]
     },
     "execution_count": 97,
     "metadata": {},
     "output_type": "execute_result"
    }
   ],
   "source": [
    "num_cols = X_train.select_dtypes(include=np.number).columns.tolist()\n",
    "cat_cols = X_train.select_dtypes(exclude=np.number).columns.tolist()\n",
    "num_cols[:5], cat_cols[:10]\n"
   ]
  },
  {
   "cell_type": "code",
   "execution_count": 99,
   "id": "3886570d-e8f3-4cec-9b1f-e905b754e022",
   "metadata": {},
   "outputs": [
    {
     "data": {
      "text/plain": [
       "(6.945373652667876, 4.58563083562601)"
      ]
     },
     "execution_count": 99,
     "metadata": {},
     "output_type": "execute_result"
    }
   ],
   "source": [
    "# Rebuild the preprocessing pipeline with updated cols\n",
    "numeric_transformer = Pipeline(steps=[\n",
    "    ('imputer', SimpleImputer(strategy='median')),\n",
    "    ('scaler', StandardScaler())\n",
    "])\n",
    "\n",
    "categorical_transformer = Pipeline(steps=[\n",
    "    ('imputer', SimpleImputer(strategy='most_frequent')),\n",
    "    ('encoder', OneHotEncoder(handle_unknown='ignore'))\n",
    "])\n",
    "\n",
    "preprocessor = ColumnTransformer(\n",
    "    transformers=[\n",
    "        ('num', numeric_transformer, num_cols),\n",
    "        ('cat', categorical_transformer, cat_cols)\n",
    "    ]\n",
    ")\n",
    "\n",
    "# XGBoost model\n",
    "from xgboost import XGBRegressor\n",
    "xgb_model = Pipeline([\n",
    "    ('prep', preprocessor),\n",
    "    ('xgb', XGBRegressor(\n",
    "        n_estimators=1000,\n",
    "        learning_rate=0.05,\n",
    "        max_depth=6,\n",
    "        subsample=0.8,\n",
    "        colsample_bytree=0.8,\n",
    "        random_state=42,\n",
    "        n_jobs=-1\n",
    "    ))\n",
    "])\n",
    "\n",
    "xgb_model.fit(X_train, y_train)\n",
    "val_pred = xgb_model.predict(X_val)\n",
    "\n",
    "rmse_xgb = np.sqrt(mean_squared_error(y_val, val_pred))\n",
    "mae_xgb  = mean_absolute_error(y_val, val_pred)\n",
    "rmse_xgb, mae_xgb\n"
   ]
  },
  {
   "cell_type": "code",
   "execution_count": 101,
   "id": "01e977f1-9b60-4b90-a179-3b48d5ea1998",
   "metadata": {},
   "outputs": [
    {
     "name": "stdout",
     "output_type": "stream",
     "text": [
      "Skewness: 4.990900046269182\n"
     ]
    },
    {
     "data": {
      "image/png": "[encoded data removed]",
      "text/plain": [
       "<Figure size 640x480 with 1 Axes>"
      ]
     },
     "metadata": {},
     "output_type": "display_data"
    },
    {
     "data": {
      "image/png": "[encoded data removed]",
      "text/plain": [
       "<Figure size 640x480 with 1 Axes>"
      ]
     },
     "metadata": {},
     "output_type": "display_data"
    }
   ],
   "source": [
    "import numpy as np\n",
    "import matplotlib.pyplot as plt\n",
    "\n",
    "print(\"Skewness:\", df['food_waste_kg'].skew())\n",
    "\n",
    "plt.figure()\n",
    "df['food_waste_kg'].hist(bins=30, edgecolor='black')\n",
    "plt.title(\"Food Waste (kg) — Original\")\n",
    "plt.xlabel(\"kg\"); plt.ylabel(\"count\")\n",
    "plt.show()\n",
    "\n",
    "plt.figure()\n",
    "np.log1p(df['food_waste_kg']).hist(bins=30, edgecolor='black')\n",
    "plt.title(\"Food Waste (kg) — log1p transformed\")\n",
    "plt.xlabel(\"log1p(kg)\"); plt.ylabel(\"count\")\n",
    "plt.show()\n"
   ]
  },
  {
   "cell_type": "code",
   "execution_count": 103,
   "id": "602d016f-f884-4ed8-8a50-cac07f0fe8d9",
   "metadata": {},
   "outputs": [
    {
     "data": {
      "text/plain": [
       "(8.788987358221178, 4.957330352392991)"
      ]
     },
     "execution_count": 103,
     "metadata": {},
     "output_type": "execute_result"
    }
   ],
   "source": [
    "# Apply log1p transform to target\n",
    "y_log = np.log1p(y)\n",
    "\n",
    "X_train, X_val, y_train, y_val = train_test_split(\n",
    "    X, y_log, test_size=0.2, random_state=42\n",
    ")\n",
    "\n",
    "# Train XGBoost on log-transformed target\n",
    "xgb_model.fit(X_train, y_train)\n",
    "val_pred_log = xgb_model.predict(X_val)\n",
    "\n",
    "# Inverse transform predictions\n",
    "val_pred = np.expm1(val_pred_log)\n",
    "\n",
    "# Compare against original target (non-transformed)\n",
    "y_val_orig = np.expm1(y_val)\n",
    "\n",
    "rmse_log = np.sqrt(mean_squared_error(y_val_orig, val_pred))\n",
    "mae_log  = mean_absolute_error(y_val_orig, val_pred)\n",
    "rmse_log, mae_log\n"
   ]
  },
  {
   "cell_type": "code",
   "execution_count": 105,
   "id": "5be232d1-9c2c-45bf-b13e-41b3fc8e68be",
   "metadata": {},
   "outputs": [
    {
     "name": "stdout",
     "output_type": "stream",
     "text": [
      "Fitting 3 folds for each of 48 candidates, totalling 144 fits\n",
      "Best Params: {'xgb__colsample_bytree': 1.0, 'xgb__learning_rate': 0.05, 'xgb__max_depth': 4, 'xgb__n_estimators': 500, 'xgb__subsample': 0.8}\n",
      "Best RMSE: 0.14971835236370715\n"
     ]
    }
   ],
   "source": [
    "from sklearn.model_selection import GridSearchCV\n",
    "\n",
    "param_grid = {\n",
    "    'xgb__max_depth': [4, 6, 8],\n",
    "    'xgb__learning_rate': [0.05, 0.1],\n",
    "    'xgb__subsample': [0.8, 1.0],\n",
    "    'xgb__colsample_bytree': [0.8, 1.0],\n",
    "    'xgb__n_estimators': [500, 1000]\n",
    "}\n",
    "\n",
    "grid_search = GridSearchCV(\n",
    "    xgb_model,\n",
    "    param_grid,\n",
    "    scoring='neg_root_mean_squared_error',\n",
    "    cv=3,\n",
    "    n_jobs=-1,\n",
    "    verbose=2\n",
    ")\n",
    "\n",
    "grid_search.fit(X_train, y_train)\n",
    "\n",
    "print(\"Best Params:\", grid_search.best_params_)\n",
    "print(\"Best RMSE:\", -grid_search.best_score_)\n"
   ]
  },
  {
   "cell_type": "code",
   "execution_count": 107,
   "id": "56a13aab-a914-45ea-b3c5-e9c9b5b7bff1",
   "metadata": {},
   "outputs": [
    {
     "data": {
      "text/plain": [
       "(8.420445029123687, 4.87882895639071)"
      ]
     },
     "execution_count": 107,
     "metadata": {},
     "output_type": "execute_result"
    }
   ],
   "source": [
    "best_xgb = Pipeline([\n",
    "    ('prep', preprocessor),\n",
    "    ('xgb', XGBRegressor(\n",
    "        colsample_bytree=1.0,\n",
    "        learning_rate=0.05,\n",
    "        max_depth=4,\n",
    "        n_estimators=500,\n",
    "        subsample=0.8,\n",
    "        random_state=42,\n",
    "        n_jobs=-1\n",
    "    ))\n",
    "])\n",
    "\n",
    "best_xgb.fit(X_train, y_train)\n",
    "val_pred_log = best_xgb.predict(X_val)\n",
    "val_pred = np.expm1(val_pred_log)\n",
    "y_val_orig = np.expm1(y_val)\n",
    "\n",
    "rmse_best = np.sqrt(mean_squared_error(y_val_orig, val_pred))\n",
    "mae_best  = mean_absolute_error(y_val_orig, val_pred)\n",
    "rmse_best, mae_best\n"
   ]
  },
  {
   "cell_type": "code",
   "execution_count": 109,
   "id": "f2b03b63-b63d-493d-883f-2c76feb38753",
   "metadata": {},
   "outputs": [
    {
     "data": {
      "text/plain": [
       "(7.172945066811339, 4.632318801984415)"
      ]
     },
     "execution_count": 109,
     "metadata": {},
     "output_type": "execute_result"
    }
   ],
   "source": [
    "from sklearn.ensemble import VotingRegressor\n",
    "\n",
    "ensemble = VotingRegressor([\n",
    "    ('rf', baseline.named_steps['rf']),\n",
    "    ('xgb', best_xgb.named_steps['xgb'])\n",
    "])\n",
    "\n",
    "# Fit with preprocessing\n",
    "ensemble_model = Pipeline([\n",
    "    ('prep', preprocessor),\n",
    "    ('ensemble', ensemble)\n",
    "])\n",
    "\n",
    "ensemble_model.fit(X_train, y_train)\n",
    "val_pred_log = ensemble_model.predict(X_val)\n",
    "val_pred = np.expm1(val_pred_log)\n",
    "\n",
    "rmse_ens = np.sqrt(mean_squared_error(y_val_orig, val_pred))\n",
    "mae_ens  = mean_absolute_error(y_val_orig, val_pred)\n",
    "rmse_ens, mae_ens\n"
   ]
  },
  {
   "cell_type": "code",
   "execution_count": 111,
   "id": "4c080d69-cd73-4147-a166-09b541671ccb",
   "metadata": {},
   "outputs": [
    {
     "data": {
      "text/plain": [
       "['final_food_waste_model.joblib']"
      ]
     },
     "execution_count": 111,
     "metadata": {},
     "output_type": "execute_result"
    }
   ],
   "source": [
    "import joblib\n",
    "\n",
    "joblib.dump(ensemble_model, \"final_food_waste_model.joblib\")\n"
   ]
  },
  {
   "cell_type": "code",
   "execution_count": 113,
   "id": "a2085c31-ffd0-41b4-99da-e5a5fbc3d7b4",
   "metadata": {},
   "outputs": [
    {
     "data": {
      "text/html": [
       "<div>\n",
       "<style scoped>\n",
       "    .dataframe tbody tr th:only-of-type {\n",
       "        vertical-align: middle;\n",
       "    }\n",
       "\n",
       "    .dataframe tbody tr th {\n",
       "        vertical-align: top;\n",
       "    }\n",
       "\n",
       "    .dataframe thead th {\n",
       "        text-align: right;\n",
       "    }\n",
       "</style>\n",
       "<table border=\"1\" class=\"dataframe\">\n",
       "  <thead>\n",
       "    <tr style=\"text-align: right;\">\n",
       "      <th></th>\n",
       "      <th>ID</th>\n",
       "      <th>date</th>\n",
       "      <th>meals_served</th>\n",
       "      <th>kitchen_staff</th>\n",
       "      <th>temperature_C</th>\n",
       "      <th>humidity_percent</th>\n",
       "      <th>day_of_week</th>\n",
       "      <th>special_event</th>\n",
       "      <th>past_waste_kg</th>\n",
       "      <th>staff_experience</th>\n",
       "      <th>waste_category</th>\n",
       "    </tr>\n",
       "  </thead>\n",
       "  <tbody>\n",
       "    <tr>\n",
       "      <th>0</th>\n",
       "      <td>0</td>\n",
       "      <td>2022-12-19</td>\n",
       "      <td>196</td>\n",
       "      <td>13</td>\n",
       "      <td>27.887273</td>\n",
       "      <td>45.362854</td>\n",
       "      <td>0</td>\n",
       "      <td>0</td>\n",
       "      <td>7.740587</td>\n",
       "      <td>intermediate</td>\n",
       "      <td>dairy</td>\n",
       "    </tr>\n",
       "    <tr>\n",
       "      <th>1</th>\n",
       "      <td>1</td>\n",
       "      <td>2023-11-21</td>\n",
       "      <td>244</td>\n",
       "      <td>15</td>\n",
       "      <td>10.317872</td>\n",
       "      <td>64.430475</td>\n",
       "      <td>1</td>\n",
       "      <td>0</td>\n",
       "      <td>42.311779</td>\n",
       "      <td>NaN</td>\n",
       "      <td>MeAt</td>\n",
       "    </tr>\n",
       "    <tr>\n",
       "      <th>2</th>\n",
       "      <td>4</td>\n",
       "      <td>2022-02-01</td>\n",
       "      <td>148</td>\n",
       "      <td>16</td>\n",
       "      <td>27.714300</td>\n",
       "      <td>69.046113</td>\n",
       "      <td>1</td>\n",
       "      <td>0</td>\n",
       "      <td>41.184305</td>\n",
       "      <td>Beginner</td>\n",
       "      <td>MeAt</td>\n",
       "    </tr>\n",
       "    <tr>\n",
       "      <th>3</th>\n",
       "      <td>5</td>\n",
       "      <td>2023-03-19</td>\n",
       "      <td>157</td>\n",
       "      <td>19</td>\n",
       "      <td>19.173902</td>\n",
       "      <td>46.292823</td>\n",
       "      <td>6</td>\n",
       "      <td>0</td>\n",
       "      <td>41.543492</td>\n",
       "      <td>Beginner</td>\n",
       "      <td>MeAt</td>\n",
       "    </tr>\n",
       "    <tr>\n",
       "      <th>4</th>\n",
       "      <td>6</td>\n",
       "      <td>2022-07-18</td>\n",
       "      <td>297</td>\n",
       "      <td>10</td>\n",
       "      <td>26.375233</td>\n",
       "      <td>79.741064</td>\n",
       "      <td>0</td>\n",
       "      <td>0</td>\n",
       "      <td>26.525097</td>\n",
       "      <td>Intermediate</td>\n",
       "      <td>MEAT</td>\n",
       "    </tr>\n",
       "  </tbody>\n",
       "</table>\n",
       "</div>"
      ],
      "text/plain": [
       "   ID        date  meals_served  kitchen_staff  temperature_C  \\\n",
       "0   0  2022-12-19           196             13      27.887273   \n",
       "1   1  2023-11-21           244             15      10.317872   \n",
       "2   4  2022-02-01           148             16      27.714300   \n",
       "3   5  2023-03-19           157             19      19.173902   \n",
       "4   6  2022-07-18           297             10      26.375233   \n",
       "\n",
       "   humidity_percent  day_of_week  special_event  past_waste_kg  \\\n",
       "0         45.362854            0              0       7.740587   \n",
       "1         64.430475            1              0      42.311779   \n",
       "2         69.046113            1              0      41.184305   \n",
       "3         46.292823            6              0      41.543492   \n",
       "4         79.741064            0              0      26.525097   \n",
       "\n",
       "  staff_experience waste_category  \n",
       "0     intermediate          dairy  \n",
       "1              NaN           MeAt  \n",
       "2         Beginner           MeAt  \n",
       "3         Beginner           MeAt  \n",
       "4     Intermediate           MEAT  "
      ]
     },
     "execution_count": 113,
     "metadata": {},
     "output_type": "execute_result"
    }
   ],
   "source": [
    "test_df = pd.read_csv(\"data/test.csv\")\n",
    "test_df.head()\n"
   ]
  },
  {
   "cell_type": "code",
   "execution_count": 115,
   "id": "aafab24f-eaa0-43da-ab91-39f259b7dad2",
   "metadata": {},
   "outputs": [
    {
     "data": {
      "text/html": [
       "<div>\n",
       "<style scoped>\n",
       "    .dataframe tbody tr th:only-of-type {\n",
       "        vertical-align: middle;\n",
       "    }\n",
       "\n",
       "    .dataframe tbody tr th {\n",
       "        vertical-align: top;\n",
       "    }\n",
       "\n",
       "    .dataframe thead th {\n",
       "        text-align: right;\n",
       "    }\n",
       "</style>\n",
       "<table border=\"1\" class=\"dataframe\">\n",
       "  <thead>\n",
       "    <tr style=\"text-align: right;\">\n",
       "      <th></th>\n",
       "      <th>ID</th>\n",
       "      <th>date</th>\n",
       "      <th>meals_served</th>\n",
       "      <th>kitchen_staff</th>\n",
       "      <th>temperature_C</th>\n",
       "      <th>humidity_percent</th>\n",
       "      <th>day_of_week</th>\n",
       "      <th>special_event</th>\n",
       "      <th>past_waste_kg</th>\n",
       "      <th>staff_experience</th>\n",
       "      <th>waste_category</th>\n",
       "      <th>year</th>\n",
       "      <th>month</th>\n",
       "      <th>dayofweek</th>\n",
       "      <th>date_missing</th>\n",
       "      <th>experience_month</th>\n",
       "    </tr>\n",
       "  </thead>\n",
       "  <tbody>\n",
       "    <tr>\n",
       "      <th>0</th>\n",
       "      <td>0</td>\n",
       "      <td>2022-12-19</td>\n",
       "      <td>196</td>\n",
       "      <td>13</td>\n",
       "      <td>27.887273</td>\n",
       "      <td>45.362854</td>\n",
       "      <td>0</td>\n",
       "      <td>0</td>\n",
       "      <td>7.740587</td>\n",
       "      <td>intermediate</td>\n",
       "      <td>dairy</td>\n",
       "      <td>2022</td>\n",
       "      <td>12</td>\n",
       "      <td>0</td>\n",
       "      <td>0</td>\n",
       "      <td>intermediate_12</td>\n",
       "    </tr>\n",
       "    <tr>\n",
       "      <th>1</th>\n",
       "      <td>1</td>\n",
       "      <td>2023-11-21</td>\n",
       "      <td>244</td>\n",
       "      <td>15</td>\n",
       "      <td>10.317872</td>\n",
       "      <td>64.430475</td>\n",
       "      <td>1</td>\n",
       "      <td>0</td>\n",
       "      <td>42.311779</td>\n",
       "      <td>NaN</td>\n",
       "      <td>MeAt</td>\n",
       "      <td>2023</td>\n",
       "      <td>11</td>\n",
       "      <td>1</td>\n",
       "      <td>0</td>\n",
       "      <td>nan_11</td>\n",
       "    </tr>\n",
       "    <tr>\n",
       "      <th>2</th>\n",
       "      <td>4</td>\n",
       "      <td>2022-02-01</td>\n",
       "      <td>148</td>\n",
       "      <td>16</td>\n",
       "      <td>27.714300</td>\n",
       "      <td>69.046113</td>\n",
       "      <td>1</td>\n",
       "      <td>0</td>\n",
       "      <td>41.184305</td>\n",
       "      <td>Beginner</td>\n",
       "      <td>MeAt</td>\n",
       "      <td>2022</td>\n",
       "      <td>2</td>\n",
       "      <td>1</td>\n",
       "      <td>0</td>\n",
       "      <td>Beginner_2</td>\n",
       "    </tr>\n",
       "    <tr>\n",
       "      <th>3</th>\n",
       "      <td>5</td>\n",
       "      <td>2023-03-19</td>\n",
       "      <td>157</td>\n",
       "      <td>19</td>\n",
       "      <td>19.173902</td>\n",
       "      <td>46.292823</td>\n",
       "      <td>6</td>\n",
       "      <td>0</td>\n",
       "      <td>41.543492</td>\n",
       "      <td>Beginner</td>\n",
       "      <td>MeAt</td>\n",
       "      <td>2023</td>\n",
       "      <td>3</td>\n",
       "      <td>6</td>\n",
       "      <td>0</td>\n",
       "      <td>Beginner_3</td>\n",
       "    </tr>\n",
       "    <tr>\n",
       "      <th>4</th>\n",
       "      <td>6</td>\n",
       "      <td>2022-07-18</td>\n",
       "      <td>297</td>\n",
       "      <td>10</td>\n",
       "      <td>26.375233</td>\n",
       "      <td>79.741064</td>\n",
       "      <td>0</td>\n",
       "      <td>0</td>\n",
       "      <td>26.525097</td>\n",
       "      <td>Intermediate</td>\n",
       "      <td>MEAT</td>\n",
       "      <td>2022</td>\n",
       "      <td>7</td>\n",
       "      <td>0</td>\n",
       "      <td>0</td>\n",
       "      <td>Intermediate_7</td>\n",
       "    </tr>\n",
       "  </tbody>\n",
       "</table>\n",
       "</div>"
      ],
      "text/plain": [
       "   ID       date  meals_served  kitchen_staff  temperature_C  \\\n",
       "0   0 2022-12-19           196             13      27.887273   \n",
       "1   1 2023-11-21           244             15      10.317872   \n",
       "2   4 2022-02-01           148             16      27.714300   \n",
       "3   5 2023-03-19           157             19      19.173902   \n",
       "4   6 2022-07-18           297             10      26.375233   \n",
       "\n",
       "   humidity_percent  day_of_week  special_event  past_waste_kg  \\\n",
       "0         45.362854            0              0       7.740587   \n",
       "1         64.430475            1              0      42.311779   \n",
       "2         69.046113            1              0      41.184305   \n",
       "3         46.292823            6              0      41.543492   \n",
       "4         79.741064            0              0      26.525097   \n",
       "\n",
       "  staff_experience waste_category  year  month  dayofweek  date_missing  \\\n",
       "0     intermediate          dairy  2022     12          0             0   \n",
       "1              NaN           MeAt  2023     11          1             0   \n",
       "2         Beginner           MeAt  2022      2          1             0   \n",
       "3         Beginner           MeAt  2023      3          6             0   \n",
       "4     Intermediate           MEAT  2022      7          0             0   \n",
       "\n",
       "  experience_month  \n",
       "0  intermediate_12  \n",
       "1           nan_11  \n",
       "2       Beginner_2  \n",
       "3       Beginner_3  \n",
       "4   Intermediate_7  "
      ]
     },
     "execution_count": 115,
     "metadata": {},
     "output_type": "execute_result"
    }
   ],
   "source": [
    "test_df['date'] = pd.to_datetime(test_df['date'], errors='coerce')\n",
    "test_df['year'] = test_df['date'].dt.year\n",
    "test_df['month'] = test_df['date'].dt.month\n",
    "test_df['dayofweek'] = test_df['date'].dt.dayofweek\n",
    "test_df['date_missing'] = test_df['date'].isna().astype(int)\n",
    "test_df['experience_month'] = test_df['staff_experience'].astype(str) + \"_\" + test_df['month'].astype(str)\n",
    "\n",
    "test_df.head()\n"
   ]
  },
  {
   "cell_type": "code",
   "execution_count": 117,
   "id": "df5020ba-a710-4d62-8667-b116ad91999c",
   "metadata": {},
   "outputs": [
    {
     "data": {
      "text/plain": [
       "array([27.30970089, 50.36585692, 51.45521674, 47.50305044, 43.76128733,\n",
       "       27.05597427, 50.68301974, 67.7333042 , 42.25308848, 35.25896853])"
      ]
     },
     "execution_count": 117,
     "metadata": {},
     "output_type": "execute_result"
    }
   ],
   "source": [
    "test_pred_log = ensemble_model.predict(test_df)\n",
    "test_pred = np.expm1(test_pred_log)\n",
    "\n",
    "test_pred[:10]\n"
   ]
  },
  {
   "cell_type": "code",
   "execution_count": 119,
   "id": "3aecf42d-f36c-48b4-863e-f3ae984637e9",
   "metadata": {},
   "outputs": [
    {
     "data": {
      "text/html": [
       "<div>\n",
       "<style scoped>\n",
       "    .dataframe tbody tr th:only-of-type {\n",
       "        vertical-align: middle;\n",
       "    }\n",
       "\n",
       "    .dataframe tbody tr th {\n",
       "        vertical-align: top;\n",
       "    }\n",
       "\n",
       "    .dataframe thead th {\n",
       "        text-align: right;\n",
       "    }\n",
       "</style>\n",
       "<table border=\"1\" class=\"dataframe\">\n",
       "  <thead>\n",
       "    <tr style=\"text-align: right;\">\n",
       "      <th></th>\n",
       "      <th>Id</th>\n",
       "      <th>food_waste_kg</th>\n",
       "    </tr>\n",
       "  </thead>\n",
       "  <tbody>\n",
       "    <tr>\n",
       "      <th>0</th>\n",
       "      <td>1</td>\n",
       "      <td>27.309701</td>\n",
       "    </tr>\n",
       "    <tr>\n",
       "      <th>1</th>\n",
       "      <td>2</td>\n",
       "      <td>50.365857</td>\n",
       "    </tr>\n",
       "    <tr>\n",
       "      <th>2</th>\n",
       "      <td>3</td>\n",
       "      <td>51.455217</td>\n",
       "    </tr>\n",
       "    <tr>\n",
       "      <th>3</th>\n",
       "      <td>4</td>\n",
       "      <td>47.503050</td>\n",
       "    </tr>\n",
       "    <tr>\n",
       "      <th>4</th>\n",
       "      <td>5</td>\n",
       "      <td>43.761287</td>\n",
       "    </tr>\n",
       "  </tbody>\n",
       "</table>\n",
       "</div>"
      ],
      "text/plain": [
       "   Id  food_waste_kg\n",
       "0   1      27.309701\n",
       "1   2      50.365857\n",
       "2   3      51.455217\n",
       "3   4      47.503050\n",
       "4   5      43.761287"
      ]
     },
     "execution_count": 119,
     "metadata": {},
     "output_type": "execute_result"
    }
   ],
   "source": [
    "submission = pd.DataFrame({\n",
    "    \"Id\": range(1, len(test_pred) + 1),\n",
    "    \"food_waste_kg\": test_pred\n",
    "})\n",
    "\n",
    "submission.to_csv(\"food_waste_predictions.csv\", index=False)\n",
    "submission.head()\n"
   ]
  },
  {
   "cell_type": "code",
   "execution_count": 121,
   "id": "56485ffc-1d37-4d0b-9a5b-e8b6d73e3ef2",
   "metadata": {},
   "outputs": [
    {
     "data": {
      "text/plain": [
       "['.ipynb_checkpoints',\n",
       " 'data',\n",
       " 'final_food_waste_model.joblib',\n",
       " 'food_waste_predictions.csv',\n",
       " 'messy_food_waste.ipynb']"
      ]
     },
     "execution_count": 121,
     "metadata": {},
     "output_type": "execute_result"
    }
   ],
   "source": [
    "import os\n",
    "os.listdir()\n"
   ]
  },
  {
   "cell_type": "code",
   "execution_count": null,
   "id": "fa0e8b37-5737-4580-b8ec-ff757e613b0e",
   "metadata": {},
   "outputs": [],
   "source": []
  }
 ],
 "metadata": {
  "kernelspec": {
   "display_name": "Python [conda env:base] *",
   "language": "python",
   "name": "conda-base-py"
  },
  "language_info": {
   "codemirror_mode": {
    "name": "ipython",
    "version": 3
   },
   "file_extension": ".py",
   "mimetype": "text/x-python",
   "name": "python",
   "nbconvert_exporter": "python",
   "pygments_lexer": "ipython3",
   "version": "3.12.7"
  }
 },
 "nbformat": 4,
 "nbformat_minor": 5
}
